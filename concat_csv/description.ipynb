{
 "cells": [
  {
   "cell_type": "markdown",
   "id": "06a5bc50-316d-49ac-8905-2083d67a072e",
   "metadata": {},
   "source": [
    "## Работа с папками и файлами с помощью библиотеки OS  "
   ]
  },
  {
   "cell_type": "markdown",
   "id": "7e905db2-a69b-43e3-b288-42279354da02",
   "metadata": {},
   "source": [
    "  "
   ]
  },
  {
   "cell_type": "markdown",
   "id": "6b1ba27e-365a-4586-8b6e-7e9a3b392eba",
   "metadata": {},
   "source": [
    "Пусть имеются данные со следующей структурой:\n",
    "\n",
    "- записываются для каждого пользователя, совершившего покупки, каждый день\n",
    "- для каждой даты есть своя папка, внутри неё – папки для каждого пользователя\n",
    "- внутри каждой папки есть файл data.csv, где и хранятся данные  \n",
    "  \n",
    "Схематично выглядит так:  \n",
    "  \n",
    " └── data_os  \n",
    ". . . ├── 2020-12-03   \n",
    ". . . │ . ├── FirstName_LastName1   \n",
    ". . . │ . │  . └── data.csv  \n",
    ". . . │ . ├── FirstName_LastName2   \n",
    ". . . │ . │  . └── data.csv  \n",
    ". . . │ . └── FirstName_LastName3   \n",
    ". . . │ . . . . .└── data.csv   \n",
    ". . . └── 2020-12-04   \n",
    ". . . . .. .├── FirstName_LastName1      \n",
    ". . . . .. .│ . . └── data.csv      \n",
    ". . . . . ..└── FirstName_LastName5      \n",
    ". . . . . . . .  . └── data.csv  \n",
    "  \n",
    "Например, 03 декабря три покупателя сделали покупки, 04 – два (папки 2020-12-03 и 2020-12-04 соответственно). Поскольку клиент FirstName_LastName1 купил товары в оба дня, для него имеется папка в папке для каждой из дат. Для других клиентов – по одной.\n",
    "\n",
    "  \n",
    "**Задача**  \n",
    "Собрать все данные из папки data_os в один датафрэйм, имеющий следующие столбцы: колонки из самих файлов (product_id, quantity), а также имя пользователя (name), и дата этих покупок (date), соответствует названию папки, где лежит папка с пользователем\n",
    "\n"
   ]
  },
  {
   "cell_type": "markdown",
   "id": "051ebb77-8762-4141-b3a9-9633e527b96e",
   "metadata": {},
   "source": [
    "  "
   ]
  },
  {
   "cell_type": "markdown",
   "id": "8cfaf552-5ea2-4ea4-8bf3-f052332e4395",
   "metadata": {},
   "source": [
    "**Применяемые методы**  \n",
    "- Библиотеки"
   ]
  },
  {
   "cell_type": "code",
   "execution_count": 1,
   "id": "da895295-6a06-45f7-8322-233743f7eae1",
   "metadata": {},
   "outputs": [],
   "source": [
    "import pandas as pd\n",
    "import os"
   ]
  },
  {
   "cell_type": "markdown",
   "id": "d39de1ef-db34-456f-a84f-7ff876429821",
   "metadata": {},
   "source": [
    "  \n",
    "  \n",
    "- Метод  **os.listdir()** принимает путь к папке и возвращает её содержимое в виде списка"
   ]
  },
  {
   "cell_type": "code",
   "execution_count": 2,
   "id": "47e32e7d-9f41-4f7e-b955-82bdf1c5f20e",
   "metadata": {},
   "outputs": [
    {
     "data": {
      "text/plain": [
       "['2020-12-03',\n",
       " '2020-12-04',\n",
       " '2020-12-05',\n",
       " '2020-12-06',\n",
       " '2020-12-07',\n",
       " '2020-12-08',\n",
       " '2020-12-09']"
      ]
     },
     "execution_count": 2,
     "metadata": {},
     "output_type": "execute_result"
    }
   ],
   "source": [
    "root_path = 'DATA/data_os'\n",
    "os.listdir(root_path)      # список папок"
   ]
  },
  {
   "cell_type": "markdown",
   "id": "26c09363-4cf4-4ab6-a406-c5be2d81aab8",
   "metadata": {},
   "source": [
    "- При вложенности папок и необходимости добраться до дна можно использовать  **os.walk()**.  \n",
    "os.walk() возвращает три значения: путь к папке, список папок, список файлов на каждой итерации   \n",
    "DATA/data_os,  ['2020-12-03',  '2020-12-04',  '2020-12-05',  ...], [ ]  \n",
    ". . . . . . . . . . . . .  DATA/data_os/2020-12-03,  ['Alexey_Smirnov',  'Anton_Petrov',  ... ], [ ]  \n",
    ". . . .  .  . . . . . . . . . . . . . . . . . . . . . . . . . . . . . . . . . DATA/data_os/2020-12-03/Alexey_Smirnov,  [ ],  ['data.csv']  \n",
    "  \n",
    "- Чтобы получить полный адрес файла, следует воспользоваться функцией **os.path.join**.  \n",
    "Функция принимает путь и компонент(ы) пути (например, имя файла)."
   ]
  },
  {
   "cell_type": "code",
   "execution_count": 3,
   "id": "697d6c68-ad15-4a8b-b941-7c7c9e057f50",
   "metadata": {
    "tags": []
   },
   "outputs": [
    {
     "name": "stdout",
     "output_type": "stream",
     "text": [
      "DATA/data_os\\2020-12-03\\Alexey_Smirnov\\data.csv\n",
      "DATA/data_os\\2020-12-03\\Anton_Petrov\\data.csv\n",
      "DATA/data_os\\2020-12-03\\Kirill_Petrov\\data.csv\n",
      "DATA/data_os\\2020-12-03\\Petr_Fedorov\\data.csv\n",
      "DATA/data_os\\2020-12-03\\Vasiliy_Ivanov\\data.csv\n",
      "DATA/data_os\\2020-12-03\\Vasiliy_Petrov\\data.csv\n",
      "DATA/data_os\\2020-12-04\\Alexey_Smirnov\\data.csv\n",
      "DATA/data_os\\2020-12-04\\Kirill_Fedorov\\data.csv\n",
      "DATA/data_os\\2020-12-04\\Petr_Fedorov\\data.csv\n",
      "DATA/data_os\\2020-12-04\\Petr_Ivanov\\data.csv\n",
      "DATA/data_os\\2020-12-04\\Petr_Smirnov\\data.csv\n",
      "DATA/data_os\\2020-12-04\\Rostislav_Fedorov\\data.csv\n",
      "DATA/data_os\\2020-12-04\\Rostislav_Ivanov\\data.csv\n",
      "DATA/data_os\\2020-12-04\\Rostislav_Smirnov\\data.csv\n",
      "DATA/data_os\\2020-12-04\\Vasiliy_Ivanov\\data.csv\n",
      "DATA/data_os\\2020-12-05\\Alexey_Fedorov\\data.csv\n",
      "DATA/data_os\\2020-12-05\\Alexey_Petrov\\data.csv\n",
      "DATA/data_os\\2020-12-05\\Kirill_Smirnov\\data.csv\n",
      "DATA/data_os\\2020-12-05\\Petr_Ivanov\\data.csv\n",
      "DATA/data_os\\2020-12-05\\Petr_Smirnov\\data.csv\n",
      "DATA/data_os\\2020-12-05\\Rostislav_Smirnov\\data.csv\n",
      "DATA/data_os\\2020-12-06\\Vasiliy_Fedorov\\data.csv\n",
      "DATA/data_os\\2020-12-07\\Alexey_Fedorov\\data.csv\n",
      "DATA/data_os\\2020-12-07\\Alexey_Ivanov\\data.csv\n",
      "DATA/data_os\\2020-12-07\\Alexey_Smirnov\\data.csv\n",
      "DATA/data_os\\2020-12-07\\Anton_Ivanov\\data.csv\n",
      "DATA/data_os\\2020-12-07\\Anton_Smirnov\\data.csv\n",
      "DATA/data_os\\2020-12-07\\Kirill_Fedorov\\data.csv\n",
      "DATA/data_os\\2020-12-07\\Petr_Fedorov\\data.csv\n",
      "DATA/data_os\\2020-12-07\\Petr_Smirnov\\data.csv\n",
      "DATA/data_os\\2020-12-07\\Rostislav_Fedorov\\data.csv\n",
      "DATA/data_os\\2020-12-07\\Vasiliy_Ivanov\\data.csv\n",
      "DATA/data_os\\2020-12-08\\Alexey_Fedorov\\data.csv\n",
      "DATA/data_os\\2020-12-08\\Anton_Smirnov\\data.csv\n",
      "DATA/data_os\\2020-12-08\\Kirill_Smirnov\\data.csv\n",
      "DATA/data_os\\2020-12-08\\Petr_Petrov\\data.csv\n",
      "DATA/data_os\\2020-12-08\\Rostislav_Petrov\\data.csv\n",
      "DATA/data_os\\2020-12-09\\Alexey_Smirnov\\data.csv\n",
      "DATA/data_os\\2020-12-09\\Anton_Ivanov\\data.csv\n",
      "DATA/data_os\\2020-12-09\\Anton_Petrov\\data.csv\n",
      "DATA/data_os\\2020-12-09\\Anton_Smirnov\\data.csv\n",
      "DATA/data_os\\2020-12-09\\Petr_Fedorov\\data.csv\n",
      "DATA/data_os\\2020-12-09\\Rostislav_Petrov\\data.csv\n",
      "DATA/data_os\\2020-12-09\\Vasiliy_Ivanov\\data.csv\n"
     ]
    }
   ],
   "source": [
    "for path, dirs, files in os.walk(root_path):\n",
    "    for name in files:\n",
    "        print(os.path.join(path, name))"
   ]
  },
  {
   "cell_type": "markdown",
   "id": "5d68701d-dab9-41d1-9730-0fe378523a85",
   "metadata": {},
   "source": [
    "- **Функция concat_csv()**  \n",
    "Создадим функцию concat_csv(root_path), которая принимает путь к папке в виде строки (root_path) и название файла в виде строки, считывает данные из csv-файлов во всех вложенных папках, считывает названия папок как строки и объединяет все считанные данные в один датафрейм.  "
   ]
  },
  {
   "cell_type": "code",
   "execution_count": 11,
   "id": "5abe9a75-cbf6-4f72-be5a-154cd6ff8f8a",
   "metadata": {
    "tags": []
   },
   "outputs": [],
   "source": [
    "def concat_csv(root_path, file_name='data.csv'):\n",
    "    \n",
    "    \"\"\"\n",
    "    Данная функция принимает путь к папке и возвращает датафрейм пандаса.\n",
    "\n",
    "    Parameters\n",
    "    ---------\n",
    "    root_path: str\n",
    "        Путь к папке\n",
    "    file_name: str, default 'data.csv'\n",
    "        Название csv-файла в формате 'name.csv'\n",
    "        Если этот параметр не указан, то считываются файлы с названием 'data.csv'\n",
    "\n",
    "    Returns: DataFrame\n",
    "    \"\"\"\n",
    "    \n",
    "    # Создаем пустой датафрейм df1\n",
    "    df1 = pd.DataFrame()\n",
    "    \n",
    "    # Итерация по списку папок в корневой папке\n",
    "    for date in os.listdir(root_path):             # каждая папка - дата (date)\n",
    "        user_path = os.path.join(root_path, date)  # сохраняем путь корневая папка + вложенная папка 1-го уровня\n",
    "        \n",
    "        # Итерация по списку папок во вложенной папке 1-го уровня\n",
    "        for user in os.listdir(user_path):    # каждая папка - Имя_Фамилия (user)\n",
    "            \n",
    "            # Получаем путь каждого csv-файла с помощью os.path.join\n",
    "            # Считываем каждый файл в датафрейм df2 с помощью read_csv\n",
    "            df2 = pd.read_csv(os.path.join(user_path, user, file_name))\n",
    "            \n",
    "            # Добавляем в датафрейм df2 колонки даты (date) и имени покупателя (user) из переменных цикла (они же - названия папок)\n",
    "            df2['date'], df2['user'] = date, user\n",
    "            \n",
    "            # Присоединяем считанный датафрейм df2 к созданному ранее df1 с помощью pd.concat (вертикально по умолчанию)\n",
    "            df1 = pd.concat([df1, df2], ignore_index=True)    # индексы будут по порядку\n",
    "    \n",
    "    # Удаляем колонку со старыми индексами с помощью drop\n",
    "    df1 = df1.drop(columns='Unnamed: 0')\n",
    "    \n",
    "    # Возвращается итоговый датафрейм\n",
    "    return df1"
   ]
  },
  {
   "cell_type": "markdown",
   "id": "52c0b4e3-c13b-4c57-b168-8b53c3634a63",
   "metadata": {},
   "source": [
    "  "
   ]
  },
  {
   "cell_type": "markdown",
   "id": "623d845a-60e3-4ab0-b465-ae929910066c",
   "metadata": {},
   "source": [
    "**Результат работы функции**"
   ]
  },
  {
   "cell_type": "code",
   "execution_count": 10,
   "id": "232f0810-1144-49ee-8e20-46e623bfed67",
   "metadata": {},
   "outputs": [
    {
     "data": {
      "text/html": [
       "<div>\n",
       "<style scoped>\n",
       "    .dataframe tbody tr th:only-of-type {\n",
       "        vertical-align: middle;\n",
       "    }\n",
       "\n",
       "    .dataframe tbody tr th {\n",
       "        vertical-align: top;\n",
       "    }\n",
       "\n",
       "    .dataframe thead th {\n",
       "        text-align: right;\n",
       "    }\n",
       "</style>\n",
       "<table border=\"1\" class=\"dataframe\">\n",
       "  <thead>\n",
       "    <tr style=\"text-align: right;\">\n",
       "      <th></th>\n",
       "      <th>product_id</th>\n",
       "      <th>quantity</th>\n",
       "      <th>date</th>\n",
       "      <th>user</th>\n",
       "    </tr>\n",
       "  </thead>\n",
       "  <tbody>\n",
       "    <tr>\n",
       "      <th>0</th>\n",
       "      <td>47</td>\n",
       "      <td>1</td>\n",
       "      <td>2020-12-03</td>\n",
       "      <td>Alexey_Smirnov</td>\n",
       "    </tr>\n",
       "    <tr>\n",
       "      <th>1</th>\n",
       "      <td>57</td>\n",
       "      <td>1</td>\n",
       "      <td>2020-12-03</td>\n",
       "      <td>Alexey_Smirnov</td>\n",
       "    </tr>\n",
       "    <tr>\n",
       "      <th>2</th>\n",
       "      <td>14</td>\n",
       "      <td>2</td>\n",
       "      <td>2020-12-03</td>\n",
       "      <td>Alexey_Smirnov</td>\n",
       "    </tr>\n",
       "    <tr>\n",
       "      <th>3</th>\n",
       "      <td>52</td>\n",
       "      <td>1</td>\n",
       "      <td>2020-12-03</td>\n",
       "      <td>Alexey_Smirnov</td>\n",
       "    </tr>\n",
       "    <tr>\n",
       "      <th>4</th>\n",
       "      <td>1</td>\n",
       "      <td>4</td>\n",
       "      <td>2020-12-03</td>\n",
       "      <td>Alexey_Smirnov</td>\n",
       "    </tr>\n",
       "    <tr>\n",
       "      <th>...</th>\n",
       "      <td>...</td>\n",
       "      <td>...</td>\n",
       "      <td>...</td>\n",
       "      <td>...</td>\n",
       "    </tr>\n",
       "    <tr>\n",
       "      <th>156</th>\n",
       "      <td>66</td>\n",
       "      <td>4</td>\n",
       "      <td>2020-12-09</td>\n",
       "      <td>Rostislav_Petrov</td>\n",
       "    </tr>\n",
       "    <tr>\n",
       "      <th>157</th>\n",
       "      <td>39</td>\n",
       "      <td>2</td>\n",
       "      <td>2020-12-09</td>\n",
       "      <td>Rostislav_Petrov</td>\n",
       "    </tr>\n",
       "    <tr>\n",
       "      <th>158</th>\n",
       "      <td>82</td>\n",
       "      <td>4</td>\n",
       "      <td>2020-12-09</td>\n",
       "      <td>Vasiliy_Ivanov</td>\n",
       "    </tr>\n",
       "    <tr>\n",
       "      <th>159</th>\n",
       "      <td>74</td>\n",
       "      <td>2</td>\n",
       "      <td>2020-12-09</td>\n",
       "      <td>Vasiliy_Ivanov</td>\n",
       "    </tr>\n",
       "    <tr>\n",
       "      <th>160</th>\n",
       "      <td>54</td>\n",
       "      <td>3</td>\n",
       "      <td>2020-12-09</td>\n",
       "      <td>Vasiliy_Ivanov</td>\n",
       "    </tr>\n",
       "  </tbody>\n",
       "</table>\n",
       "<p>161 rows × 4 columns</p>\n",
       "</div>"
      ],
      "text/plain": [
       "     product_id  quantity        date              user\n",
       "0            47         1  2020-12-03    Alexey_Smirnov\n",
       "1            57         1  2020-12-03    Alexey_Smirnov\n",
       "2            14         2  2020-12-03    Alexey_Smirnov\n",
       "3            52         1  2020-12-03    Alexey_Smirnov\n",
       "4             1         4  2020-12-03    Alexey_Smirnov\n",
       "..          ...       ...         ...               ...\n",
       "156          66         4  2020-12-09  Rostislav_Petrov\n",
       "157          39         2  2020-12-09  Rostislav_Petrov\n",
       "158          82         4  2020-12-09    Vasiliy_Ivanov\n",
       "159          74         2  2020-12-09    Vasiliy_Ivanov\n",
       "160          54         3  2020-12-09    Vasiliy_Ivanov\n",
       "\n",
       "[161 rows x 4 columns]"
      ]
     },
     "execution_count": 10,
     "metadata": {},
     "output_type": "execute_result"
    }
   ],
   "source": [
    "# Вызов функции\n",
    "\n",
    "concat_csv(root_path)"
   ]
  },
  {
   "cell_type": "code",
   "execution_count": null,
   "id": "4e0a37d3-31ac-41df-95ba-636a9238aed4",
   "metadata": {},
   "outputs": [],
   "source": []
  }
 ],
 "metadata": {
  "kernelspec": {
   "display_name": "Python 3 (ipykernel)",
   "language": "python",
   "name": "python3"
  },
  "language_info": {
   "codemirror_mode": {
    "name": "ipython",
    "version": 3
   },
   "file_extension": ".py",
   "mimetype": "text/x-python",
   "name": "python",
   "nbconvert_exporter": "python",
   "pygments_lexer": "ipython3",
   "version": "3.10.5"
  }
 },
 "nbformat": 4,
 "nbformat_minor": 5
}
